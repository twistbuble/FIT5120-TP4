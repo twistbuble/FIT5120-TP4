{
 "cells": [
  {
   "cell_type": "code",
   "execution_count": 40,
   "metadata": {},
   "outputs": [
    {
     "name": "stdout",
     "output_type": "stream",
     "text": [
      "Summer:  4.258518137557828\n",
      "Autumn:  1.6436363342355826\n",
      "Winter:  0.6810721358502526\n",
      "Spring:  2.469124222090466\n"
     ]
    }
   ],
   "source": [
    "import os\n",
    "import pandas as pd\n",
    "\n",
    "# # assign directory\n",
    "directory = 'uv_data'\n",
    "summer_days = \"20[0-2][0-9]-(12|0[1-2])-[0-3][0-9]\\s(1[0-8]|0[7-9]):[0-5][0-9]:[0-5][0-9]\"\n",
    "summer_string = []\n",
    "autumn_days = \"20[0-2][0-9]-0[3-5]-[0-3][0-9]\\s(1[0-8]|0[7-9]):[0-5][0-9]:[0-5][0-9]\"\n",
    "autumn_string = []\n",
    "winter_days = \"20[0-2][0-9]-0[6-8]-[0-3][0-9]\\s(1[0-8]|0[7-9]):[0-5][0-9]:[0-5][0-9]\"\n",
    "winter_string = []\n",
    "spring_days = \"20[0-2][0-9]-(1[0-1]|09)-[0-3][0-9]\\s(1[0-8]|0[7-9]):[0-5][0-9]:[0-5][0-9]\"\n",
    "spring_string = []\n",
    "\n",
    "# iterate over files in the directory\n",
    "for filename in os.listdir(directory):\n",
    "    f = os.path.join(directory, filename)\n",
    "    \n",
    "    uv_file = pd.read_csv(f)\n",
    "    \n",
    "    uv_file.columns = ['Date-Time', 'Lat', 'Lon', 'UV_Index']\n",
    "    summer_string.append(uv_file.loc[uv_file['Date-Time'].str.match(summer_days) == True, 'UV_Index'].mean())\n",
    "    autumn_string.append(uv_file.loc[uv_file['Date-Time'].str.match(autumn_days) == True, 'UV_Index'].mean())\n",
    "    winter_string.append(uv_file.loc[uv_file['Date-Time'].str.match(winter_days) == True, 'UV_Index'].mean())\n",
    "    spring_string.append(uv_file.loc[uv_file['Date-Time'].str.match(spring_days) == True, 'UV_Index'].mean())\n",
    "    \n",
    "print('Summer: ', sum(summer_string)/len(summer_string))\n",
    "print('Autumn: ', sum(autumn_string)/len(autumn_string))\n",
    "print('Winter: ', sum(winter_string)/len(winter_string))\n",
    "print('Spring: ', sum(spring_string)/len(spring_string))\n",
    "\n"
   ]
  }
 ],
 "metadata": {
  "kernelspec": {
   "display_name": "Python 3",
   "language": "python",
   "name": "python3"
  },
  "language_info": {
   "codemirror_mode": {
    "name": "ipython",
    "version": 3
   },
   "file_extension": ".py",
   "mimetype": "text/x-python",
   "name": "python",
   "nbconvert_exporter": "python",
   "pygments_lexer": "ipython3",
   "version": "3.8.5"
  }
 },
 "nbformat": 4,
 "nbformat_minor": 4
}
