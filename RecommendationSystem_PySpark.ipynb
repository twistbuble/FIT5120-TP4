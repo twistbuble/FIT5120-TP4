{
 "cells": [
  {
   "cell_type": "markdown",
   "id": "a0ef4ed4",
   "metadata": {},
   "source": [
    "### Libraries Required"
   ]
  },
  {
   "cell_type": "code",
   "execution_count": 1,
   "id": "1dc735cf",
   "metadata": {},
   "outputs": [],
   "source": [
    "import pandas as pd\n",
    "from pyspark import SparkContext\n",
    "from pyspark.sql.session import SparkSession\n",
    "from pyspark.sql.types import IntegerType, StringType\n",
    "from pyspark.ml.evaluation import RegressionEvaluator\n",
    "from pyspark.ml.recommendation import ALS"
   ]
  },
  {
   "cell_type": "markdown",
   "id": "4f753a70",
   "metadata": {},
   "source": [
    "### Initiate Spark Session"
   ]
  },
  {
   "cell_type": "code",
   "execution_count": 2,
   "id": "794e06f3",
   "metadata": {},
   "outputs": [
    {
     "name": "stderr",
     "output_type": "stream",
     "text": [
      "WARNING: An illegal reflective access operation has occurred\n",
      "WARNING: Illegal reflective access by org.apache.spark.unsafe.Platform (file:/usr/local/lib/python3.8/dist-packages/pyspark/jars/spark-unsafe_2.12-3.0.0.jar) to constructor java.nio.DirectByteBuffer(long,int)\n",
      "WARNING: Please consider reporting this to the maintainers of org.apache.spark.unsafe.Platform\n",
      "WARNING: Use --illegal-access=warn to enable warnings of further illegal reflective access operations\n",
      "WARNING: All illegal access operations will be denied in a future release\n",
      "22/10/05 19:55:20 WARN NativeCodeLoader: Unable to load native-hadoop library for your platform... using builtin-java classes where applicable\n",
      "Using Spark's default log4j profile: org/apache/spark/log4j-defaults.properties\n",
      "Setting default log level to \"WARN\".\n",
      "To adjust logging level use sc.setLogLevel(newLevel). For SparkR, use setLogLevel(newLevel).\n"
     ]
    }
   ],
   "source": [
    "sc = SparkContext.getOrCreate()\n",
    "\n",
    "if (sc is None):\n",
    "    sc = SparkContext(master=\"local[*]\", appName=\"Meal Recipe Collaborative Filtering\")\n",
    "spark = SparkSession(sparkContext=sc)"
   ]
  },
  {
   "cell_type": "code",
   "execution_count": 14,
   "id": "57783b1e",
   "metadata": {},
   "outputs": [
    {
     "name": "stderr",
     "output_type": "stream",
     "text": [
      "/usr/local/lib/python3.8/dist-packages/IPython/core/interactiveshell.py:3398: FutureWarning: In a future version of pandas all arguments of read_csv except for the argument 'filepath_or_buffer' will be keyword-only.\n",
      "  exec(code_obj, self.user_global_ns, self.user_ns)\n"
     ]
    }
   ],
   "source": [
    "test_user_data = pd.read_csv('user_rating_test_data.csv', ',')\n",
    "test_user_data['Recipe_Index'] = test_user_data.index\n",
    "# test_user_data = test_user_data.dropna()\n",
    "del test_user_data['Title']"
   ]
  },
  {
   "cell_type": "markdown",
   "id": "d680dc83",
   "metadata": {},
   "source": [
    "### Input Format\n",
    "\n",
    "input should be in the form of the table below User_ID, Recipe_Index, Individual's Recipe Rating"
   ]
  },
  {
   "cell_type": "code",
   "execution_count": 15,
   "id": "2aa589c3",
   "metadata": {},
   "outputs": [
    {
     "data": {
      "text/html": [
       "<div>\n",
       "<style scoped>\n",
       "    .dataframe tbody tr th:only-of-type {\n",
       "        vertical-align: middle;\n",
       "    }\n",
       "\n",
       "    .dataframe tbody tr th {\n",
       "        vertical-align: top;\n",
       "    }\n",
       "\n",
       "    .dataframe thead th {\n",
       "        text-align: right;\n",
       "    }\n",
       "</style>\n",
       "<table border=\"1\" class=\"dataframe\">\n",
       "  <thead>\n",
       "    <tr style=\"text-align: right;\">\n",
       "      <th></th>\n",
       "      <th>User_ID</th>\n",
       "      <th>Recipe_Index</th>\n",
       "      <th>Rating</th>\n",
       "    </tr>\n",
       "  </thead>\n",
       "  <tbody>\n",
       "    <tr>\n",
       "      <th>4</th>\n",
       "      <td>0</td>\n",
       "      <td>4</td>\n",
       "      <td>4.0</td>\n",
       "    </tr>\n",
       "    <tr>\n",
       "      <th>6</th>\n",
       "      <td>0</td>\n",
       "      <td>6</td>\n",
       "      <td>5.0</td>\n",
       "    </tr>\n",
       "    <tr>\n",
       "      <th>8</th>\n",
       "      <td>0</td>\n",
       "      <td>8</td>\n",
       "      <td>4.0</td>\n",
       "    </tr>\n",
       "    <tr>\n",
       "      <th>9</th>\n",
       "      <td>0</td>\n",
       "      <td>9</td>\n",
       "      <td>5.0</td>\n",
       "    </tr>\n",
       "    <tr>\n",
       "      <th>22</th>\n",
       "      <td>0</td>\n",
       "      <td>22</td>\n",
       "      <td>1.0</td>\n",
       "    </tr>\n",
       "  </tbody>\n",
       "</table>\n",
       "</div>"
      ],
      "text/plain": [
       "   User_ID  Recipe_Index  Rating\n",
       "4        0             4     4.0\n",
       "6        0             6     5.0\n",
       "8        0             8     4.0\n",
       "9        0             9     5.0\n",
       "22       0            22     1.0"
      ]
     },
     "execution_count": 15,
     "metadata": {},
     "output_type": "execute_result"
    }
   ],
   "source": [
    "test_user_data = test_user_data.melt(id_vars = 'Recipe_Index', var_name='User_ID', value_name='Rating')\n",
    "test_user_data = test_user_data[['User_ID', 'Recipe_Index', 'Rating']]\n",
    "test_user_data = test_user_data.dropna()\n",
    "\n",
    "test_user_data.head(5)"
   ]
  },
  {
   "cell_type": "code",
   "execution_count": 16,
   "id": "e172ccb9",
   "metadata": {},
   "outputs": [],
   "source": [
    "# turn pandas df into spark df for training\n",
    "test_user_df = spark.createDataFrame(test_user_data)\n",
    "\n",
    "# convert user_id to string\n",
    "test_user_df = test_user_df \\\n",
    "    .withColumn('User_ID', test_user_df['User_ID'].cast(IntegerType()))"
   ]
  },
  {
   "cell_type": "markdown",
   "id": "23727a5a",
   "metadata": {},
   "source": [
    "### Model Training"
   ]
  },
  {
   "cell_type": "code",
   "execution_count": 17,
   "id": "64e1588a",
   "metadata": {},
   "outputs": [],
   "source": [
    "# train / test split\n",
    "train, test = test_user_df.randomSplit([0.8, 0.2])\n",
    "\n",
    "# define ALS model hyperparameters\n",
    "als = ALS(maxIter=4, regParam=0.1, userCol=\"User_ID\", itemCol=\"Recipe_Index\", ratingCol=\"Rating\",\n",
    "          coldStartStrategy=\"drop\")\n",
    "model = als.fit(train)"
   ]
  },
  {
   "cell_type": "markdown",
   "id": "3b7fba6b",
   "metadata": {},
   "source": [
    "#### Model Performance"
   ]
  },
  {
   "cell_type": "code",
   "execution_count": 7,
   "id": "120095d6",
   "metadata": {},
   "outputs": [
    {
     "name": "stderr",
     "output_type": "stream",
     "text": [
      "[Stage 45:===============================================>      (177 + 2) / 200]\r"
     ]
    },
    {
     "name": "stdout",
     "output_type": "stream",
     "text": [
      "Root-mean-square error = 3.9565706811683357\n"
     ]
    },
    {
     "name": "stderr",
     "output_type": "stream",
     "text": [
      "                                                                                \r"
     ]
    }
   ],
   "source": [
    "# apply model to test\n",
    "# predictions = model.transform(test)\n",
    "\n",
    "# eval = RegressionEvaluator(metricName=\"rmse\", labelCol=\"Rating\", predictionCol=\"prediction\")\n",
    "# rmse = eval.evaluate(predictions)\n",
    "# print(\"Root-mean-square error = \" + str(rmse))"
   ]
  },
  {
   "cell_type": "markdown",
   "id": "2dd8796a",
   "metadata": {},
   "source": [
    "MSE is quite poor, suggesting that more data is required to provide more reliable predictions<br>\n",
    "Ideally we should have below 1.0 RMSE"
   ]
  },
  {
   "cell_type": "markdown",
   "id": "348f7714",
   "metadata": {},
   "source": [
    "### Extracting Features (Pandas)"
   ]
  },
  {
   "cell_type": "code",
   "execution_count": 8,
   "id": "061be2bc",
   "metadata": {},
   "outputs": [],
   "source": [
    "userRecs = model.recommendForAllUsers(50)"
   ]
  },
  {
   "cell_type": "code",
   "execution_count": 9,
   "id": "0c40a93f",
   "metadata": {},
   "outputs": [
    {
     "name": "stderr",
     "output_type": "stream",
     "text": [
      "                                                                                \r"
     ]
    }
   ],
   "source": [
    "pd.set_option('display.max_colwidth', None)\n",
    "user_predictions = userRecs.toPandas()\n",
    "\n",
    "user_predictions['User_ID'] = user_predictions['User_ID'].astype(str)"
   ]
  },
  {
   "cell_type": "markdown",
   "id": "36434800",
   "metadata": {},
   "source": [
    "### Extract Recommendations\n",
    "\n",
    "Run this function to get the N-number of recommendations that should be shown to the user\n",
    "\n",
    "extractRecommendations(ratings_df, predictions_df, user_id, num_of_recommendations)<br>\n",
    "\n",
    "Where:<br><br>\n",
    "<b>ratings_df</b><br> refers to the user data table from the database, including user_id, recipe_id, recipe_ratings<br>\n",
    "\n",
    "<b>predictions_df</b><br> is the recomemndations for each user based on the trained model<br>\n",
    "\n",
    "<b>user_id</b><br> being the unique user identifying number<br>\n",
    "\n",
    "<b>num_of_recommendations</b><br> being the number of recommendations you wish to output<br>"
   ]
  },
  {
   "cell_type": "code",
   "execution_count": 10,
   "id": "537d97f0",
   "metadata": {
    "scrolled": true
   },
   "outputs": [
    {
     "name": "stdout",
     "output_type": "stream",
     "text": [
      "[168, 77, 162, 161, 174]\n"
     ]
    }
   ],
   "source": [
    "def extractRecommendations(ratings_df, predictions_df, user_id, num_of_recommendations):\n",
    "    \n",
    "    predicted_recipes = []\n",
    "    user_ratings = ratings_df[ratings_df['User_ID'] == user_id]['Recipe_Index'].tolist()\n",
    "    \n",
    "    for item in predictions_df[predictions_df['User_ID'] == user_id]['recommendations'].tolist()[0]:\n",
    "        predicted_recipes.append(item[0])\n",
    "        \n",
    "    return [x for x in predicted_recipes if x not in user_ratings][:num_of_recommendations]\n",
    "    \n",
    "    \n",
    "print(extractRecommendations(test_user_data, user_predictions, '11', 5))"
   ]
  }
 ],
 "metadata": {
  "kernelspec": {
   "display_name": "Python 3 (ipykernel)",
   "language": "python",
   "name": "python3"
  },
  "language_info": {
   "codemirror_mode": {
    "name": "ipython",
    "version": 3
   },
   "file_extension": ".py",
   "mimetype": "text/x-python",
   "name": "python",
   "nbconvert_exporter": "python",
   "pygments_lexer": "ipython3",
   "version": "3.8.10"
  }
 },
 "nbformat": 4,
 "nbformat_minor": 5
}
