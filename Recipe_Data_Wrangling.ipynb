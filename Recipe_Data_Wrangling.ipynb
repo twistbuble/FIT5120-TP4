{
 "cells": [
  {
   "cell_type": "markdown",
   "metadata": {},
   "source": [
    "### Tasks that need doing\n",
    "\n",
    "Remove alcoholic recipes <font color='red'>DONE</font> <br>\n",
    "Develop alcohol 'stop words' <font color='red'>DONE</font><br>\n",
    "Develop food intolerance 'stop words'<font color='red'>DONE</font> <br>\n",
    "Remove strange characters from all fields / check formatting <font color='red'>DONE</font> <br>\n",
    "Check for nulls / black rows <font color='red'>DONE</font><br>\n",
    "Add a count column <font color='red'>DONE</font><br>\n",
    "Remove ingredients column (Use cleaned_ingredients)<font color='red'>DONE</font> <br>\n",
    "Convert Fahrenheit to celcius (Regex)<font color='red'> SUSPENDED</font> <br>\n",
    "Rename Columns <font color='red'>DONE</font> <br>\n",
    "Export to CSV <font color='red'>DONE</font> <br>"
   ]
  },
  {
   "cell_type": "markdown",
   "metadata": {},
   "source": [
    "### Libraries"
   ]
  },
  {
   "cell_type": "code",
   "execution_count": 1,
   "metadata": {},
   "outputs": [],
   "source": [
    "import pandas as pd\n",
    "import numpy as np"
   ]
  },
  {
   "cell_type": "code",
   "execution_count": 2,
   "metadata": {},
   "outputs": [],
   "source": [
    "alcohol = \"(?i)vodka|kahlúa|kahlua|tequila|\\srum|(\\sgin\\.|\\sgin\\s|\\sgin)|whiskey|pimm's|malibu|baileys|jägermeister|jagermeister|bacardi|spirit|mezcal|bourbon|scotch|cognac|vermouth|liqueur|schnapps|brandy|camparinha|absinthe|shochu|makgeolli|baijiu|soju|cocktail|aperol|applejack|campari|cynar|prosecco|giffard|champagne|aquavit|angostura|pisco|cachaca|cachaça|sparkling wine\"\n",
    "coffee = \"(?i)coffee|espresso|expresso\"\n",
    "\n",
    "egg = ['egg', 'mayonnaise', 'meringue', 'flavoprotein', 'hollandaise', 'custard', 'surimi', 'nougat' 'puddings', 'marshmallow', 'marzipan']\n",
    "soy = ['soy', 'peanut', 'cereal', 'sausage', 'natto', 'miso', 'tofu', 'bean curd', 'edamame', 'shoyo', 'tamari', 'vegetable gum']\n",
    "dairy = ['milk', 'cheese', 'yoghurt', 'butter', 'custard', 'ghee', 'galactose', 'cream', 'curd', 'caramel', 'lactate', 'lactulose', 'pudding', 'nougat']\n",
    "gluten = ['wheat', 'rye', 'barley', 'triticale', 'bread', 'pitta', 'bagel', 'flatbread', 'crouton', 'malt', 'yeast', 'fries', 'potato', 'soy', 'gravy', 'tortilla', 'cereal', 'granola', 'oats', 'spelt', 'noodle', 'durum', 'panko']\n",
    "fructose = ['fruit', 'apple', 'grapes', 'guava', 'mango', 'pear', 'raisin', 'kiwi', 'apricot', 'nectarine', 'papaya', 'raspberry', 'pineapple', 'artichoke', 'bean', 'broccoli', 'cabbage', 'pepper', 'leek', 'onion', 'shallots', 'shiitake', 'shitake', 'tomato', 'beetroot', 'broccoli', 'carrot', 'chickpea', 'eggplant', 'lentil', 'mung', 'sauerkraut', 'sweet potato', 'rye', 'wheat', 'peanut', 'cashew', 'almond', 'hazelnut', 'pecan', 'yoghurt', 'chutney', 'mustard', 'fructose', 'vineger', 'tiramisu', 'fruitcake', 'lasagne', 'pizza', 'pretzel', 'licorice', 'marshmallow', 'garlic', 'chilli', 'sucrose', 'molasses', 'teriyaki', 'guacamole']\n",
    "salicylate = ['apricot', 'cherry', 'cranberry', 'date', 'grapes', 'grapefruit', 'guava', 'orange', 'raspberry', 'redcurrent', 'strawberry', 'tangelo', 'apple', 'avocado', 'lychee', 'nectarine', 'passionfruit', 'peach', 'watermelon', 'fruit', 'broccoli', 'cauliflower', 'champignon', 'eggplant', 'gherkin', 'mushroom', 'olive', 'spinach', 'tomato', 'artichoke', 'corn', 'chilli', 'cucumber', 'radish', 'zucchini', 'almond', 'cheese', 'honey', 'liquorice', 'aniseed', 'cayenne', 'cinamon', 'ginger', 'coriander', 'curry', 'dill', 'miso', 'soy', 'anchovies', 'salami', 'chorizo', 'cabanna', 'cheese', 'mustard', 'oregano', 'rosemary']\n",
    "histamine = ['mushroom', 'cheese', 'tofu', 'soy', 'yeast', 'chocolate', 'smoke', 'salami', 'chorizo', 'ham', 'vinegar', 'crab', 'lobster', 'prawn', 'shellfish', 'cocoa', 'bean', 'pulse', 'papaya', 'wheat', 'kiwi', 'lemon', 'lime', 'pineapple', 'plum', 'spinach', 'sauerkraut', 'corn', 'grapefuit', 'banana', 'spelt', 'kamut', 'rye', 'oats', 'kefir', 'yoghurt', 'walnut', 'pistachio', 'almond', 'chickpea', 'aniseed', 'licorice', 'tomato', 'miso', 'pickles']\n",
    "FODMAPs = ['onion', 'apple', 'cheese', 'honey', 'milk', 'yoghurt', 'artichoke', 'bread', 'bean', 'lentils', 'chickpea', 'wheat', 'garlic', 'barley', 'lentil', 'rye', 'leek', 'pea', 'cashew', 'asparagus', 'beetroot', 'cauliflower', 'falafel', 'cabbage', 'mung', 'shallots', 'taro', 'cassava', 'celery', 'apricot', 'avocado', 'blackberry', 'boysenberry', 'boysenberries', 'cherry', 'cherries', 'dates', 'figs', 'goji', 'lychee', 'pear', 'peach', 'mango', 'persimmon', 'prunes', 'sultana', 'sausage', 'cake', 'croissant', 'muffin', 'udon', 'pasta', 'cream', 'custard', 'kefir']"
   ]
  },
  {
   "cell_type": "markdown",
   "metadata": {},
   "source": [
    "### Source:\n",
    "\n",
    "FODMAPS <br>\n",
    "https://www.ibsdiets.org/fodmap-diet/fodmap-food-list/\n",
    "<br><br>\n",
    "\n",
    "Histamine <br>\n",
    "https://www.connersclinic.com/high-histamine-foods-list/ <br>\n",
    "https://naturdao.com/en/food-list-with-histamine/\n",
    "<br><br>\n",
    "\n",
    "Salicylate <br>\n",
    "https://allergyfield.com/Salicylates_in_Food.pdf\n",
    "<br><br>\n",
    "\n",
    "Fructose <br>\n",
    "https://www.fructohelp.com/wp-content/uploads/2018/01/Nutrition-Guide-Summary-www.fructohelp.com_.png\n",
    "<br><br>\n",
    "\n",
    "Gluten <br>\n",
    "https://www.medicalnewstoday.com/articles/gluten-foods#how-much-is-safe\n",
    "<br><br>\n",
    "\n",
    "Dairy <br>\n",
    "https://www.livingbeyondallergies.com/dairy-allergy-what-to-eat-and-what-to-avoid/\n",
    "<br><br>\n",
    "\n",
    "Egg <br>\n",
    "https://th.bing.com/th/id/R.8b2edc33a95adf3d709a0a033195d8f2?rik=vnLISP4uINpLtA&riu=http%3a%2f%2fhhma.org%2fwp-content%2fuploads%2f2017%2f02%2feggaller.jpg&ehk=NJcv6%2fBk7MJHfPNhOyqShJefF3hbQan1oaH3i1rzr5k%3d&risl=&pid=ImgRaw&r=0\n",
    "<br><br>"
   ]
  },
  {
   "cell_type": "markdown",
   "metadata": {},
   "source": [
    "### Read csv"
   ]
  },
  {
   "cell_type": "code",
   "execution_count": 3,
   "metadata": {},
   "outputs": [
    {
     "data": {
      "text/plain": [
       "Unnamed: 0              int64\n",
       "Title                  object\n",
       "Ingredients            object\n",
       "Instructions           object\n",
       "Image_Name             object\n",
       "Cleaned_Ingredients    object\n",
       "dtype: object"
      ]
     },
     "execution_count": 3,
     "metadata": {},
     "output_type": "execute_result"
    }
   ],
   "source": [
    "recipes_df = pd.read_csv('recipe_datasets/recipe_data_csv.csv', index_col=None)\n",
    "recipes_df.head(2)\n",
    "\n",
    "recipes_df.dtypes"
   ]
  },
  {
   "cell_type": "markdown",
   "metadata": {},
   "source": [
    "### Removal of Recipes which contain Alcohol"
   ]
  },
  {
   "cell_type": "code",
   "execution_count": 4,
   "metadata": {},
   "outputs": [
    {
     "name": "stderr",
     "output_type": "stream",
     "text": [
      "<ipython-input-4-7a8354669055>:1: UserWarning: This pattern has match groups. To actually get the groups, use str.extract.\n",
      "  recipes_df = recipes_df[~recipes_df['Ingredients'].str.contains(alcohol)]\n"
     ]
    }
   ],
   "source": [
    "recipes_df = recipes_df[~recipes_df['Ingredients'].str.contains(alcohol)]\n",
    "recipes_df = recipes_df[~recipes_df['Ingredients'].str.contains(coffee)]"
   ]
  },
  {
   "cell_type": "code",
   "execution_count": null,
   "metadata": {},
   "outputs": [],
   "source": []
  },
  {
   "cell_type": "markdown",
   "metadata": {},
   "source": [
    "### Testing Regex"
   ]
  },
  {
   "cell_type": "code",
   "execution_count": 5,
   "metadata": {},
   "outputs": [
    {
     "data": {
      "text/html": [
       "<div>\n",
       "<style scoped>\n",
       "    .dataframe tbody tr th:only-of-type {\n",
       "        vertical-align: middle;\n",
       "    }\n",
       "\n",
       "    .dataframe tbody tr th {\n",
       "        vertical-align: top;\n",
       "    }\n",
       "\n",
       "    .dataframe thead th {\n",
       "        text-align: right;\n",
       "    }\n",
       "</style>\n",
       "<table border=\"1\" class=\"dataframe\">\n",
       "  <thead>\n",
       "    <tr style=\"text-align: right;\">\n",
       "      <th></th>\n",
       "      <th>Unnamed: 0</th>\n",
       "      <th>Title</th>\n",
       "      <th>Ingredients</th>\n",
       "      <th>Instructions</th>\n",
       "      <th>Image_Name</th>\n",
       "      <th>Cleaned_Ingredients</th>\n",
       "    </tr>\n",
       "  </thead>\n",
       "  <tbody>\n",
       "    <tr>\n",
       "      <th>21</th>\n",
       "      <td>21</td>\n",
       "      <td>Maple and Chile Roasted Squash With Quinoa Tab...</td>\n",
       "      <td>['1 (2kg or 4 lb or 4 oz) butternut squash or ...</td>\n",
       "      <td>Preheat oven to 220°C (425°F).\\nScoop the seed...</td>\n",
       "      <td>maple-chile-roasted-pumpkin-with-quinoa-tabouli</td>\n",
       "      <td>['1 (2kg or 4 lb or 4 oz) butternut squash or ...</td>\n",
       "    </tr>\n",
       "    <tr>\n",
       "      <th>22</th>\n",
       "      <td>22</td>\n",
       "      <td>Chhena Poda (Spiced Cheesecake)</td>\n",
       "      <td>['Ghee, for the cake pan', '8 ounces paneer, p...</td>\n",
       "      <td>Preheat the oven to 350°F. Butter a 9-inch non...</td>\n",
       "      <td>chhena-poda-paneer-cheesecake</td>\n",
       "      <td>['Ghee, for the cake pan', '8 ounces paneer, p...</td>\n",
       "    </tr>\n",
       "    <tr>\n",
       "      <th>58</th>\n",
       "      <td>58</td>\n",
       "      <td>Spiced Lamb and Dill Yogurt Pasta</td>\n",
       "      <td>['3 large egg yolks', '2 cups kefir (cultured ...</td>\n",
       "      <td>Combine egg yolks, kefir, and 1½ cups dill in ...</td>\n",
       "      <td>spiced-lamb-and-dill-yogurt-pasta</td>\n",
       "      <td>['3 large egg yolks', '2 cups kefir (cultured ...</td>\n",
       "    </tr>\n",
       "    <tr>\n",
       "      <th>62</th>\n",
       "      <td>62</td>\n",
       "      <td>Nut Butter Granola Bars</td>\n",
       "      <td>['2 cups raw nuts (such as almonds, walnuts, p...</td>\n",
       "      <td>Preheat oven to 350°F. Toast nuts pumpkin seed...</td>\n",
       "      <td>nut-butter-granola-bars</td>\n",
       "      <td>['2 cups raw nuts (such as almonds, walnuts, p...</td>\n",
       "    </tr>\n",
       "    <tr>\n",
       "      <th>78</th>\n",
       "      <td>78</td>\n",
       "      <td>Fresh Fruit Tart With Almond Press-In Crust</td>\n",
       "      <td>['2 large egg yolks', '1 cup all-purpose flour...</td>\n",
       "      <td>Place a rack in the middle of oven; preheat to...</td>\n",
       "      <td>fresh-fruit-berry-tart-with-almond-press-in-crust</td>\n",
       "      <td>['2 large egg yolks', '1 cup all-purpose flour...</td>\n",
       "    </tr>\n",
       "    <tr>\n",
       "      <th>...</th>\n",
       "      <td>...</td>\n",
       "      <td>...</td>\n",
       "      <td>...</td>\n",
       "      <td>...</td>\n",
       "      <td>...</td>\n",
       "      <td>...</td>\n",
       "    </tr>\n",
       "    <tr>\n",
       "      <th>13329</th>\n",
       "      <td>13329</td>\n",
       "      <td>Pistachio Blancmanges</td>\n",
       "      <td>['1 1/2 cups shelled unsalted pistachios (not ...</td>\n",
       "      <td>Put oven rack in middle position and preheat t...</td>\n",
       "      <td>pistachio-blancmanges-108527</td>\n",
       "      <td>['1 1/2 cups shelled unsalted pistachios (not ...</td>\n",
       "    </tr>\n",
       "    <tr>\n",
       "      <th>13336</th>\n",
       "      <td>13336</td>\n",
       "      <td>Pistachio Ice Cream</td>\n",
       "      <td>['1 cup unsalted shelled pistachios', '3/4 cup...</td>\n",
       "      <td>Finely grind 1 cup pistachios and 1/4 cup suga...</td>\n",
       "      <td>pistachio-ice-cream-5902</td>\n",
       "      <td>['1 cup unsalted shelled pistachios', '3/4 cup...</td>\n",
       "    </tr>\n",
       "    <tr>\n",
       "      <th>13386</th>\n",
       "      <td>13386</td>\n",
       "      <td>Green Olive and Almond Tapenade</td>\n",
       "      <td>['1 1/2 cups brine-cured green olives (10-ounc...</td>\n",
       "      <td>Blend olives, parsley, almonds, and lemon juic...</td>\n",
       "      <td>green-olive-and-almond-tapenade-103176</td>\n",
       "      <td>['1 1/2 cups brine-cured green olives (10-ounc...</td>\n",
       "    </tr>\n",
       "    <tr>\n",
       "      <th>13426</th>\n",
       "      <td>13426</td>\n",
       "      <td>Mole Cake with Cherry-Almond Ice Cream, Tamari...</td>\n",
       "      <td>['4 ounces cherries, pitted', '1 cup dry sherr...</td>\n",
       "      <td>Preheat the oven to 300°F.\\nTo prepare the ice...</td>\n",
       "      <td>mole-cake-with-cherry-almond-ice-cream-tamarin...</td>\n",
       "      <td>['4 ounces cherries, pitted', '1 cup dry sherr...</td>\n",
       "    </tr>\n",
       "    <tr>\n",
       "      <th>13489</th>\n",
       "      <td>13489</td>\n",
       "      <td>Raspberry Jam Tart with Almond Crumble</td>\n",
       "      <td>['2 cups sliced natural almonds', '2/3 cup sug...</td>\n",
       "      <td>Preheat oven to 400°F.\\nReserve 1/4 cup almond...</td>\n",
       "      <td>raspberry-jam-tart-with-almond-crumble-104443</td>\n",
       "      <td>['2 cups sliced natural almonds', '2/3 cup sug...</td>\n",
       "    </tr>\n",
       "  </tbody>\n",
       "</table>\n",
       "<p>561 rows × 6 columns</p>\n",
       "</div>"
      ],
      "text/plain": [
       "       Unnamed: 0                                              Title  \\\n",
       "21             21  Maple and Chile Roasted Squash With Quinoa Tab...   \n",
       "22             22                    Chhena Poda (Spiced Cheesecake)   \n",
       "58             58                  Spiced Lamb and Dill Yogurt Pasta   \n",
       "62             62                            Nut Butter Granola Bars   \n",
       "78             78        Fresh Fruit Tart With Almond Press-In Crust   \n",
       "...           ...                                                ...   \n",
       "13329       13329                              Pistachio Blancmanges   \n",
       "13336       13336                                Pistachio Ice Cream   \n",
       "13386       13386                    Green Olive and Almond Tapenade   \n",
       "13426       13426  Mole Cake with Cherry-Almond Ice Cream, Tamari...   \n",
       "13489       13489             Raspberry Jam Tart with Almond Crumble   \n",
       "\n",
       "                                             Ingredients  \\\n",
       "21     ['1 (2kg or 4 lb or 4 oz) butternut squash or ...   \n",
       "22     ['Ghee, for the cake pan', '8 ounces paneer, p...   \n",
       "58     ['3 large egg yolks', '2 cups kefir (cultured ...   \n",
       "62     ['2 cups raw nuts (such as almonds, walnuts, p...   \n",
       "78     ['2 large egg yolks', '1 cup all-purpose flour...   \n",
       "...                                                  ...   \n",
       "13329  ['1 1/2 cups shelled unsalted pistachios (not ...   \n",
       "13336  ['1 cup unsalted shelled pistachios', '3/4 cup...   \n",
       "13386  ['1 1/2 cups brine-cured green olives (10-ounc...   \n",
       "13426  ['4 ounces cherries, pitted', '1 cup dry sherr...   \n",
       "13489  ['2 cups sliced natural almonds', '2/3 cup sug...   \n",
       "\n",
       "                                            Instructions  \\\n",
       "21     Preheat oven to 220°C (425°F).\\nScoop the seed...   \n",
       "22     Preheat the oven to 350°F. Butter a 9-inch non...   \n",
       "58     Combine egg yolks, kefir, and 1½ cups dill in ...   \n",
       "62     Preheat oven to 350°F. Toast nuts pumpkin seed...   \n",
       "78     Place a rack in the middle of oven; preheat to...   \n",
       "...                                                  ...   \n",
       "13329  Put oven rack in middle position and preheat t...   \n",
       "13336  Finely grind 1 cup pistachios and 1/4 cup suga...   \n",
       "13386  Blend olives, parsley, almonds, and lemon juic...   \n",
       "13426  Preheat the oven to 300°F.\\nTo prepare the ice...   \n",
       "13489  Preheat oven to 400°F.\\nReserve 1/4 cup almond...   \n",
       "\n",
       "                                              Image_Name  \\\n",
       "21       maple-chile-roasted-pumpkin-with-quinoa-tabouli   \n",
       "22                         chhena-poda-paneer-cheesecake   \n",
       "58                     spiced-lamb-and-dill-yogurt-pasta   \n",
       "62                               nut-butter-granola-bars   \n",
       "78     fresh-fruit-berry-tart-with-almond-press-in-crust   \n",
       "...                                                  ...   \n",
       "13329                       pistachio-blancmanges-108527   \n",
       "13336                           pistachio-ice-cream-5902   \n",
       "13386             green-olive-and-almond-tapenade-103176   \n",
       "13426  mole-cake-with-cherry-almond-ice-cream-tamarin...   \n",
       "13489      raspberry-jam-tart-with-almond-crumble-104443   \n",
       "\n",
       "                                     Cleaned_Ingredients  \n",
       "21     ['1 (2kg or 4 lb or 4 oz) butternut squash or ...  \n",
       "22     ['Ghee, for the cake pan', '8 ounces paneer, p...  \n",
       "58     ['3 large egg yolks', '2 cups kefir (cultured ...  \n",
       "62     ['2 cups raw nuts (such as almonds, walnuts, p...  \n",
       "78     ['2 large egg yolks', '1 cup all-purpose flour...  \n",
       "...                                                  ...  \n",
       "13329  ['1 1/2 cups shelled unsalted pistachios (not ...  \n",
       "13336  ['1 cup unsalted shelled pistachios', '3/4 cup...  \n",
       "13386  ['1 1/2 cups brine-cured green olives (10-ounc...  \n",
       "13426  ['4 ounces cherries, pitted', '1 cup dry sherr...  \n",
       "13489  ['2 cups sliced natural almonds', '2/3 cup sug...  \n",
       "\n",
       "[561 rows x 6 columns]"
      ]
     },
     "execution_count": 5,
     "metadata": {},
     "output_type": "execute_result"
    }
   ],
   "source": [
    "recipes_df[recipes_df['Ingredients'].str.contains('almond')]"
   ]
  },
  {
   "cell_type": "markdown",
   "metadata": {},
   "source": [
    "### Adding 'Count' Column"
   ]
  },
  {
   "cell_type": "code",
   "execution_count": 6,
   "metadata": {
    "scrolled": true
   },
   "outputs": [
    {
     "data": {
      "text/html": [
       "<div>\n",
       "<style scoped>\n",
       "    .dataframe tbody tr th:only-of-type {\n",
       "        vertical-align: middle;\n",
       "    }\n",
       "\n",
       "    .dataframe tbody tr th {\n",
       "        vertical-align: top;\n",
       "    }\n",
       "\n",
       "    .dataframe thead th {\n",
       "        text-align: right;\n",
       "    }\n",
       "</style>\n",
       "<table border=\"1\" class=\"dataframe\">\n",
       "  <thead>\n",
       "    <tr style=\"text-align: right;\">\n",
       "      <th></th>\n",
       "      <th>Unnamed: 0</th>\n",
       "      <th>Title</th>\n",
       "      <th>Ingredients</th>\n",
       "      <th>Instructions</th>\n",
       "      <th>Image_Name</th>\n",
       "      <th>Cleaned_Ingredients</th>\n",
       "      <th>Count</th>\n",
       "    </tr>\n",
       "  </thead>\n",
       "  <tbody>\n",
       "    <tr>\n",
       "      <th>0</th>\n",
       "      <td>0</td>\n",
       "      <td>Miso-Butter Roast Chicken With Acorn Squash Pa...</td>\n",
       "      <td>['1 (3½–4-lb.) whole chicken', '2¾ tsp. kosher...</td>\n",
       "      <td>Pat chicken dry with paper towels, season all ...</td>\n",
       "      <td>miso-butter-roast-chicken-acorn-squash-panzanella</td>\n",
       "      <td>['1 (3½–4-lb.) whole chicken', '2¾ tsp. kosher...</td>\n",
       "      <td>0</td>\n",
       "    </tr>\n",
       "    <tr>\n",
       "      <th>1</th>\n",
       "      <td>1</td>\n",
       "      <td>Crispy Salt and Pepper Potatoes</td>\n",
       "      <td>['2 large egg whites', '1 pound new potatoes (...</td>\n",
       "      <td>Preheat oven to 400°F and line a rimmed baking...</td>\n",
       "      <td>crispy-salt-and-pepper-potatoes-dan-kluger</td>\n",
       "      <td>['2 large egg whites', '1 pound new potatoes (...</td>\n",
       "      <td>0</td>\n",
       "    </tr>\n",
       "  </tbody>\n",
       "</table>\n",
       "</div>"
      ],
      "text/plain": [
       "   Unnamed: 0                                              Title  \\\n",
       "0           0  Miso-Butter Roast Chicken With Acorn Squash Pa...   \n",
       "1           1                    Crispy Salt and Pepper Potatoes   \n",
       "\n",
       "                                         Ingredients  \\\n",
       "0  ['1 (3½–4-lb.) whole chicken', '2¾ tsp. kosher...   \n",
       "1  ['2 large egg whites', '1 pound new potatoes (...   \n",
       "\n",
       "                                        Instructions  \\\n",
       "0  Pat chicken dry with paper towels, season all ...   \n",
       "1  Preheat oven to 400°F and line a rimmed baking...   \n",
       "\n",
       "                                          Image_Name  \\\n",
       "0  miso-butter-roast-chicken-acorn-squash-panzanella   \n",
       "1         crispy-salt-and-pepper-potatoes-dan-kluger   \n",
       "\n",
       "                                 Cleaned_Ingredients  Count  \n",
       "0  ['1 (3½–4-lb.) whole chicken', '2¾ tsp. kosher...      0  \n",
       "1  ['2 large egg whites', '1 pound new potatoes (...      0  "
      ]
     },
     "execution_count": 6,
     "metadata": {},
     "output_type": "execute_result"
    }
   ],
   "source": [
    "recipes_df_new = recipes_df.assign(Count=0)\n",
    "\n",
    "recipes_df_new.head(2)"
   ]
  },
  {
   "cell_type": "markdown",
   "metadata": {},
   "source": [
    "### Drop Ingredients Column"
   ]
  },
  {
   "cell_type": "code",
   "execution_count": 7,
   "metadata": {},
   "outputs": [
    {
     "data": {
      "text/html": [
       "<div>\n",
       "<style scoped>\n",
       "    .dataframe tbody tr th:only-of-type {\n",
       "        vertical-align: middle;\n",
       "    }\n",
       "\n",
       "    .dataframe tbody tr th {\n",
       "        vertical-align: top;\n",
       "    }\n",
       "\n",
       "    .dataframe thead th {\n",
       "        text-align: right;\n",
       "    }\n",
       "</style>\n",
       "<table border=\"1\" class=\"dataframe\">\n",
       "  <thead>\n",
       "    <tr style=\"text-align: right;\">\n",
       "      <th></th>\n",
       "      <th>Title</th>\n",
       "      <th>Instructions</th>\n",
       "      <th>Image_Name</th>\n",
       "      <th>Cleaned_Ingredients</th>\n",
       "      <th>Count</th>\n",
       "      <th>Recipe_Index</th>\n",
       "    </tr>\n",
       "  </thead>\n",
       "  <tbody>\n",
       "    <tr>\n",
       "      <th>0</th>\n",
       "      <td>Miso-Butter Roast Chicken With Acorn Squash Pa...</td>\n",
       "      <td>Pat chicken dry with paper towels, season all ...</td>\n",
       "      <td>miso-butter-roast-chicken-acorn-squash-panzanella</td>\n",
       "      <td>['1 (3½–4-lb.) whole chicken', '2¾ tsp. kosher...</td>\n",
       "      <td>0</td>\n",
       "      <td>0</td>\n",
       "    </tr>\n",
       "    <tr>\n",
       "      <th>1</th>\n",
       "      <td>Crispy Salt and Pepper Potatoes</td>\n",
       "      <td>Preheat oven to 400°F and line a rimmed baking...</td>\n",
       "      <td>crispy-salt-and-pepper-potatoes-dan-kluger</td>\n",
       "      <td>['2 large egg whites', '1 pound new potatoes (...</td>\n",
       "      <td>0</td>\n",
       "      <td>1</td>\n",
       "    </tr>\n",
       "  </tbody>\n",
       "</table>\n",
       "</div>"
      ],
      "text/plain": [
       "                                               Title  \\\n",
       "0  Miso-Butter Roast Chicken With Acorn Squash Pa...   \n",
       "1                    Crispy Salt and Pepper Potatoes   \n",
       "\n",
       "                                        Instructions  \\\n",
       "0  Pat chicken dry with paper towels, season all ...   \n",
       "1  Preheat oven to 400°F and line a rimmed baking...   \n",
       "\n",
       "                                          Image_Name  \\\n",
       "0  miso-butter-roast-chicken-acorn-squash-panzanella   \n",
       "1         crispy-salt-and-pepper-potatoes-dan-kluger   \n",
       "\n",
       "                                 Cleaned_Ingredients  Count  Recipe_Index  \n",
       "0  ['1 (3½–4-lb.) whole chicken', '2¾ tsp. kosher...      0             0  \n",
       "1  ['2 large egg whites', '1 pound new potatoes (...      0             1  "
      ]
     },
     "execution_count": 7,
     "metadata": {},
     "output_type": "execute_result"
    }
   ],
   "source": [
    "recipes_df_new.drop(['Ingredients', 'Unnamed: 0'], axis=1, inplace=True)\n",
    "recipes_df_new['Recipe_Index'] = range(0, len(recipes_df_new))\n",
    "\n",
    "recipes_df_new.head(2)"
   ]
  },
  {
   "cell_type": "markdown",
   "metadata": {},
   "source": [
    "### Rename Index Column"
   ]
  },
  {
   "cell_type": "code",
   "execution_count": 8,
   "metadata": {},
   "outputs": [
    {
     "data": {
      "text/html": [
       "<div>\n",
       "<style scoped>\n",
       "    .dataframe tbody tr th:only-of-type {\n",
       "        vertical-align: middle;\n",
       "    }\n",
       "\n",
       "    .dataframe tbody tr th {\n",
       "        vertical-align: top;\n",
       "    }\n",
       "\n",
       "    .dataframe thead th {\n",
       "        text-align: right;\n",
       "    }\n",
       "</style>\n",
       "<table border=\"1\" class=\"dataframe\">\n",
       "  <thead>\n",
       "    <tr style=\"text-align: right;\">\n",
       "      <th></th>\n",
       "      <th>Title</th>\n",
       "      <th>Instructions</th>\n",
       "      <th>Image_Name</th>\n",
       "      <th>Ingredients</th>\n",
       "      <th>Count</th>\n",
       "      <th>Recipe_Index</th>\n",
       "    </tr>\n",
       "  </thead>\n",
       "  <tbody>\n",
       "    <tr>\n",
       "      <th>0</th>\n",
       "      <td>Miso-Butter Roast Chicken With Acorn Squash Pa...</td>\n",
       "      <td>Pat chicken dry with paper towels, season all ...</td>\n",
       "      <td>miso-butter-roast-chicken-acorn-squash-panzanella</td>\n",
       "      <td>['1 (3½–4-lb.) whole chicken', '2¾ tsp. kosher...</td>\n",
       "      <td>0</td>\n",
       "      <td>0</td>\n",
       "    </tr>\n",
       "    <tr>\n",
       "      <th>1</th>\n",
       "      <td>Crispy Salt and Pepper Potatoes</td>\n",
       "      <td>Preheat oven to 400°F and line a rimmed baking...</td>\n",
       "      <td>crispy-salt-and-pepper-potatoes-dan-kluger</td>\n",
       "      <td>['2 large egg whites', '1 pound new potatoes (...</td>\n",
       "      <td>0</td>\n",
       "      <td>1</td>\n",
       "    </tr>\n",
       "  </tbody>\n",
       "</table>\n",
       "</div>"
      ],
      "text/plain": [
       "                                               Title  \\\n",
       "0  Miso-Butter Roast Chicken With Acorn Squash Pa...   \n",
       "1                    Crispy Salt and Pepper Potatoes   \n",
       "\n",
       "                                        Instructions  \\\n",
       "0  Pat chicken dry with paper towels, season all ...   \n",
       "1  Preheat oven to 400°F and line a rimmed baking...   \n",
       "\n",
       "                                          Image_Name  \\\n",
       "0  miso-butter-roast-chicken-acorn-squash-panzanella   \n",
       "1         crispy-salt-and-pepper-potatoes-dan-kluger   \n",
       "\n",
       "                                         Ingredients  Count  Recipe_Index  \n",
       "0  ['1 (3½–4-lb.) whole chicken', '2¾ tsp. kosher...      0             0  \n",
       "1  ['2 large egg whites', '1 pound new potatoes (...      0             1  "
      ]
     },
     "execution_count": 8,
     "metadata": {},
     "output_type": "execute_result"
    }
   ],
   "source": [
    "recipes_df_new = recipes_df_new.rename(columns={'Cleaned_Ingredients': 'Ingredients'})\n",
    "\n",
    "recipes_df_new.head(2)"
   ]
  },
  {
   "cell_type": "markdown",
   "metadata": {},
   "source": [
    "### Rearrange Cols"
   ]
  },
  {
   "cell_type": "code",
   "execution_count": 9,
   "metadata": {},
   "outputs": [],
   "source": [
    "recipes_df_new = recipes_df_new[['Recipe_Index', 'Title', 'Ingredients', 'Instructions', 'Count', 'Image_Name']]"
   ]
  },
  {
   "cell_type": "markdown",
   "metadata": {},
   "source": [
    "### Export into new CSV"
   ]
  },
  {
   "cell_type": "code",
   "execution_count": 10,
   "metadata": {},
   "outputs": [],
   "source": [
    "recipes_df_new.to_csv('recipe_data_new.csv', sep=',', index=False)"
   ]
  }
 ],
 "metadata": {
  "kernelspec": {
   "display_name": "Python 3",
   "language": "python",
   "name": "python3"
  },
  "language_info": {
   "codemirror_mode": {
    "name": "ipython",
    "version": 3
   },
   "file_extension": ".py",
   "mimetype": "text/x-python",
   "name": "python",
   "nbconvert_exporter": "python",
   "pygments_lexer": "ipython3",
   "version": "3.8.5"
  }
 },
 "nbformat": 4,
 "nbformat_minor": 4
}
